{
 "cells": [
  {
   "cell_type": "markdown",
   "metadata": {},
   "source": [
    "# Sessie 4\n",
    "In deze sessie maken we kennis met Pandas en Numpy. \n"
   ]
  },
  {
   "cell_type": "markdown",
   "metadata": {},
   "source": [
    "## Opdracht: Print sublist\n",
    "\n",
    "Bij deze opdracht willen we een deel van een lijst van integers selecteren die aan een bepaalde conditie voldoen. \n",
    "Voor de lijst a = [1, 1, 2, 3, 5, 8, 13, 21, 34, 55, 89, 4, 1, 6] maak een nieuwe lijst die alle elementen van a bevat die kleiner zijn dan 5.\n",
    "\n",
    "Vind zowel de waardes van de array als de indices."
   ]
  },
  {
   "cell_type": "code",
   "execution_count": 1,
   "metadata": {
    "collapsed": false
   },
   "outputs": [],
   "source": [
    "import numpy as np\n",
    "a = np.array([1, 1, 2, 3, 5, 8, 13, 21, 34, 55, 89, 4, 1, 6])\n",
    "#Code hier"
   ]
  },
  {
   "cell_type": "markdown",
   "metadata": {},
   "source": [
    "## Opdracht: Panda Dataframe en operaties\n",
    "In deze opdracht vullen we een Pandas Dataframe met random getallen, en gebruiken we 4 verschillende methodes om de data eruit te krijgen waar we geïnteresseerd in zijn. Het Dataframe moet 4 kolommen bevatten met naam: [\"First\",\"Third\",\"Second\",\"Fourth\"]\n",
    "en het moet 1000 rijen bevatten. Zorg ervoor dat de rijen een random index krijgen tussen de 0 en 10000 en geen duplicates bevatten. \n"
   ]
  },
  {
   "cell_type": "code",
   "execution_count": 2,
   "metadata": {
    "collapsed": true
   },
   "outputs": [],
   "source": [
    "import pandas as pd\n",
    "columns = [\"First\",\"Second\",\"Third\",\"Fourth\"]\n",
    "#Maak het dataframe hier\n"
   ]
  },
  {
   "cell_type": "markdown",
   "metadata": {},
   "source": [
    "We kunnen nu op verschillende manieren de Pandas indexing gebruiken om data te verkrijgen. Gebruik df.loc df.iloc en df[\"column_name\"] voor de volgende opdrachten:\n",
    "* Output alleen kolom \"Fourth\"\n",
    "* Output de rij op plek 300 (heeft een andere index)\n",
    "* Output de index van het hoogste getal\n",
    "* Output de rij met de hoogste index waarde"
   ]
  },
  {
   "cell_type": "code",
   "execution_count": null,
   "metadata": {
    "collapsed": true
   },
   "outputs": [],
   "source": [
    "#Code hier"
   ]
  },
  {
   "cell_type": "markdown",
   "metadata": {},
   "source": [
    "Het kan handig zijn om waardes van je dataframe te sorteren. Schrijf een functie die eerst alleen de eerste kolom sorteerd, en daarna op de som van de rijen.\n",
    "\n",
    "Hint: voeg een nieuwe rij toe met de somwaardes!"
   ]
  },
  {
   "cell_type": "code",
   "execution_count": null,
   "metadata": {
    "collapsed": true
   },
   "outputs": [],
   "source": [
    "#Code hier"
   ]
  }
 ],
 "metadata": {
  "kernelspec": {
   "display_name": "Python 3",
   "language": "python",
   "name": "python3"
  },
  "language_info": {
   "codemirror_mode": {
    "name": "ipython",
    "version": 3
   },
   "file_extension": ".py",
   "mimetype": "text/x-python",
   "name": "python",
   "nbconvert_exporter": "python",
   "pygments_lexer": "ipython3",
   "version": "3.6.0"
  }
 },
 "nbformat": 4,
 "nbformat_minor": 2
}
